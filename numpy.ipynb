{
 "cells": [
  {
   "cell_type": "code",
   "execution_count": 9,
   "id": "546aaa9e",
   "metadata": {},
   "outputs": [
    {
     "name": "stdout",
     "output_type": "stream",
     "text": [
      "my first array: [6.  7.5 8.  0.  1. ]\n",
      "my first multidimensional array:\n",
      " [[1 2 3 4]\n",
      " [5 6 7 8]]\n",
      "2\n",
      "(2, 4)\n",
      "2\n",
      "[[1 2 3]\n",
      " [5 6 7]\n",
      " [5 6 7]]\n",
      "2\n"
     ]
    }
   ],
   "source": [
    "import numpy as np\n",
    "data1=[6,7.5,8,0,1]\n",
    "arr1=np.array(data1)\n",
    "print(\"my first array:\",arr1)\n",
    "data2=[[1,2,3,4],[5,6,7,8]]\n",
    "arr2=np.array(data2)\n",
    "print(\"my first multidimensional array:\\n\",arr2)\n",
    "print(arr2.ndim)\n",
    "print(arr2.shape)\n",
    "print(len(arr2))\n",
    "data3=[[1,2,3],[5,6,7],[5,6,7]]\n",
    "arr3=np.array(data3)\n",
    "print(arr3)\n",
    "print(arr3.ndim)\n"
   ]
  },
  {
   "cell_type": "code",
   "execution_count": 7,
   "id": "b926fb83",
   "metadata": {},
   "outputs": [
    {
     "data": {
      "text/plain": [
       "5"
      ]
     },
     "execution_count": 7,
     "metadata": {},
     "output_type": "execute_result"
    }
   ],
   "source": [
    "len(arr1)"
   ]
  },
  {
   "cell_type": "code",
   "execution_count": 3,
   "id": "9ea7c741",
   "metadata": {},
   "outputs": [
    {
     "data": {
      "text/plain": [
       "2"
      ]
     },
     "execution_count": 3,
     "metadata": {},
     "output_type": "execute_result"
    }
   ],
   "source": [
    "len(arr2)"
   ]
  },
  {
   "cell_type": "code",
   "execution_count": 4,
   "id": "20a26ea9",
   "metadata": {},
   "outputs": [
    {
     "data": {
      "text/plain": [
       "3"
      ]
     },
     "execution_count": 4,
     "metadata": {},
     "output_type": "execute_result"
    }
   ],
   "source": [
    "len(arr3)"
   ]
  },
  {
   "cell_type": "code",
   "execution_count": 10,
   "id": "bb2dfd59",
   "metadata": {},
   "outputs": [
    {
     "name": "stdout",
     "output_type": "stream",
     "text": [
      "2D array:\n",
      " [[ 0.9526 -0.246  -0.8856]\n",
      " [ 0.5639  0.2376  0.9104]]\n",
      "(2, 3)\n",
      "float64\n",
      "2\n"
     ]
    }
   ],
   "source": [
    "data=np.array([[0.9526,-0.246,-0.8856],[0.5639,0.2376,0.9104]])\n",
    "print(\"2D array:\\n\",data)\n",
    "print(data.shape)\n",
    "print(data.dtype)\n",
    "print(data.ndim)\n"
   ]
  },
  {
   "cell_type": "code",
   "execution_count": 14,
   "id": "85935b30",
   "metadata": {},
   "outputs": [
    {
     "data": {
      "text/plain": [
       "array([[[1.72723371e-077, 1.72723371e-077, 6.93593633e-310,\n",
       "         6.93593634e-310, 6.93593865e-310, 6.93593868e-310],\n",
       "        [6.93593633e-310, 6.93593740e-310, 6.93593868e-310,\n",
       "         6.93593740e-310, 6.93593635e-310, 6.93593761e-310],\n",
       "        [6.93593761e-310, 6.93593761e-310, 6.93593761e-310,\n",
       "         6.93593845e-310, 6.93593846e-310, 6.93593845e-310],\n",
       "        [6.93593761e-310, 6.93593761e-310, 6.93593761e-310,\n",
       "         6.93593846e-310, 6.93593740e-310, 6.93593636e-310],\n",
       "        [6.93593634e-310, 6.93593740e-310, 6.93593741e-310,\n",
       "         6.93593740e-310, 6.93593740e-310, 6.93593740e-310]],\n",
       "\n",
       "       [[6.93593740e-310, 6.93593741e-310, 6.93593740e-310,\n",
       "         6.93593740e-310, 6.93593740e-310, 6.93593740e-310],\n",
       "        [6.93593740e-310, 6.93593740e-310, 6.93593740e-310,\n",
       "         6.93593741e-310, 6.93593741e-310, 6.93593741e-310],\n",
       "        [6.93593740e-310, 6.93593741e-310, 6.93593741e-310,\n",
       "         6.93593741e-310, 6.93593740e-310, 6.93593740e-310],\n",
       "        [6.93593740e-310, 6.93593741e-310, 6.93593741e-310,\n",
       "         6.93593741e-310, 6.93593633e-310, 6.93593633e-310],\n",
       "        [6.93593635e-310, 6.93593633e-310, 6.93593633e-310,\n",
       "         6.93593633e-310, 6.93593633e-310, 6.93593633e-310]],\n",
       "\n",
       "       [[6.93593633e-310, 6.93593633e-310, 6.93593633e-310,\n",
       "         6.93593633e-310, 6.93593633e-310, 6.93593633e-310],\n",
       "        [6.93593633e-310, 6.93593633e-310, 6.93593633e-310,\n",
       "         6.93593633e-310, 6.93593633e-310, 6.93593633e-310],\n",
       "        [6.93593633e-310, 6.93593633e-310, 6.93593633e-310,\n",
       "         6.11895311e-308, 6.93593633e-310, 6.93593633e-310],\n",
       "        [6.93593633e-310, 6.93593633e-310, 6.93593633e-310,\n",
       "         6.93593633e-310, 6.93593633e-310, 6.93593633e-310],\n",
       "        [6.93593633e-310, 6.93593633e-310, 6.93593636e-310,\n",
       "         6.93593633e-310, 6.93593633e-310, 6.93593633e-310]],\n",
       "\n",
       "       [[6.93593633e-310, 6.93593633e-310, 6.93593633e-310,\n",
       "         6.93593633e-310, 6.93593633e-310, 6.93593633e-310],\n",
       "        [6.93593633e-310, 6.93593633e-310, 6.93593633e-310,\n",
       "         6.93593633e-310, 6.93593634e-310, 6.93593633e-310],\n",
       "        [6.93593633e-310, 6.93593633e-310, 6.93593635e-310,\n",
       "         6.93593740e-310, 6.93593761e-310, 6.93593761e-310],\n",
       "        [6.93593761e-310, 6.93593741e-310, 6.93593868e-310,\n",
       "         6.93593761e-310, 6.93593740e-310, 6.93593740e-310],\n",
       "        [6.93593740e-310, 6.93593741e-310, 6.93593740e-310,\n",
       "         6.93593740e-310, 6.93593846e-310, 6.93593761e-310]]])"
      ]
     },
     "execution_count": 14,
     "metadata": {},
     "output_type": "execute_result"
    }
   ],
   "source": [
    "np.empty((4,5,6))\n"
   ]
  },
  {
   "cell_type": "code",
   "execution_count": 13,
   "id": "4db7a2cd",
   "metadata": {},
   "outputs": [
    {
     "data": {
      "text/plain": [
       "array([0.        , 0.44444444, 0.88888889, 1.33333333, 1.77777778,\n",
       "       2.22222222, 2.66666667, 3.11111111, 3.55555556, 4.        ])"
      ]
     },
     "execution_count": 13,
     "metadata": {},
     "output_type": "execute_result"
    }
   ],
   "source": [
    "np.linspace(0,4,10)"
   ]
  },
  {
   "cell_type": "code",
   "execution_count": 15,
   "id": "903e37b3",
   "metadata": {},
   "outputs": [
    {
     "data": {
      "text/plain": [
       "array([[3.14, 3.14, 3.14, 3.14, 3.14],\n",
       "       [3.14, 3.14, 3.14, 3.14, 3.14],\n",
       "       [3.14, 3.14, 3.14, 3.14, 3.14]])"
      ]
     },
     "execution_count": 15,
     "metadata": {},
     "output_type": "execute_result"
    }
   ],
   "source": [
    "np.full((3,5),3.14)"
   ]
  },
  {
   "cell_type": "code",
   "execution_count": 16,
   "id": "91f26ce8",
   "metadata": {},
   "outputs": [
    {
     "data": {
      "text/plain": [
       "array([[1., 0., 0.],\n",
       "       [0., 1., 0.],\n",
       "       [0., 0., 1.]])"
      ]
     },
     "execution_count": 16,
     "metadata": {},
     "output_type": "execute_result"
    }
   ],
   "source": [
    "np.eye(3)"
   ]
  },
  {
   "cell_type": "code",
   "execution_count": 17,
   "id": "9ad5d7e3",
   "metadata": {},
   "outputs": [],
   "source": [
    "#numpy array attributes"
   ]
  },
  {
   "cell_type": "code",
   "execution_count": 19,
   "id": "57ccdc68",
   "metadata": {},
   "outputs": [
    {
     "name": "stdout",
     "output_type": "stream",
     "text": [
      "[[3 4 9 3]\n",
      " [5 3 1 0]\n",
      " [2 3 7 1]]\n"
     ]
    }
   ],
   "source": [
    "import numpy as np\n",
    "x3=np.random.randint(10,size=(3,4))#2d array\n",
    "print(x3)"
   ]
  },
  {
   "cell_type": "code",
   "execution_count": 21,
   "id": "2cd7c637",
   "metadata": {},
   "outputs": [
    {
     "data": {
      "text/plain": [
       "12"
      ]
     },
     "execution_count": 21,
     "metadata": {},
     "output_type": "execute_result"
    }
   ],
   "source": [
    "x3.size"
   ]
  },
  {
   "cell_type": "code",
   "execution_count": 22,
   "id": "c4a7692b",
   "metadata": {},
   "outputs": [
    {
     "name": "stdout",
     "output_type": "stream",
     "text": [
      "8 bytes\n"
     ]
    }
   ],
   "source": [
    "print(x3.itemsize,\"bytes\")"
   ]
  },
  {
   "cell_type": "code",
   "execution_count": 23,
   "id": "8a4e5ad7",
   "metadata": {},
   "outputs": [
    {
     "data": {
      "text/plain": [
       "96"
      ]
     },
     "execution_count": 23,
     "metadata": {},
     "output_type": "execute_result"
    }
   ],
   "source": [
    "x3.nbytes"
   ]
  },
  {
   "cell_type": "code",
   "execution_count": 3,
   "id": "aa595974",
   "metadata": {},
   "outputs": [],
   "source": [
    "#datatypes dtypes\n",
    "import numpy as np"
   ]
  },
  {
   "cell_type": "code",
   "execution_count": 7,
   "id": "294ee38f",
   "metadata": {},
   "outputs": [
    {
     "name": "stdout",
     "output_type": "stream",
     "text": [
      "[1. 2. 3.]\n"
     ]
    },
    {
     "data": {
      "text/plain": [
       "dtype('float64')"
      ]
     },
     "execution_count": 7,
     "metadata": {},
     "output_type": "execute_result"
    }
   ],
   "source": [
    "arr1=np.array([1,2,3],dtype=np.float64)\n",
    "print(arr1)\n",
    "arr1.dtype"
   ]
  },
  {
   "cell_type": "code",
   "execution_count": 6,
   "id": "3a6c5c15",
   "metadata": {},
   "outputs": [
    {
     "data": {
      "text/plain": [
       "dtype('int32')"
      ]
     },
     "execution_count": 6,
     "metadata": {},
     "output_type": "execute_result"
    }
   ],
   "source": [
    "arr2=np.array([1.5,2.3,3.2],dtype=np.int32)\n",
    "arr2.dtype"
   ]
  },
  {
   "cell_type": "code",
   "execution_count": 8,
   "id": "6f2ba9aa",
   "metadata": {},
   "outputs": [
    {
     "data": {
      "text/plain": [
       "dtype('int64')"
      ]
     },
     "execution_count": 8,
     "metadata": {},
     "output_type": "execute_result"
    }
   ],
   "source": [
    "# original and type casted\n",
    "arr=np.array([1,2,3,4,5])\n",
    "arr.dtype"
   ]
  },
  {
   "cell_type": "code",
   "execution_count": 11,
   "id": "a6a34e43",
   "metadata": {},
   "outputs": [
    {
     "data": {
      "text/plain": [
       "dtype('float64')"
      ]
     },
     "execution_count": 11,
     "metadata": {},
     "output_type": "execute_result"
    }
   ],
   "source": [
    "arr=arr.astype(np.float64)\n",
    "arr.dtype"
   ]
  },
  {
   "cell_type": "code",
   "execution_count": 13,
   "id": "53d93fd2",
   "metadata": {},
   "outputs": [
    {
     "data": {
      "text/plain": [
       "dtype('S4')"
      ]
     },
     "execution_count": 13,
     "metadata": {},
     "output_type": "execute_result"
    }
   ],
   "source": [
    "#string array into numeric form #only numeric strinds not alpha\n",
    "a=np.array(['1.23','-9.6','42'],dtype=np.string_)\n",
    "a.dtype"
   ]
  },
  {
   "cell_type": "code",
   "execution_count": 16,
   "id": "0a6442a6",
   "metadata": {},
   "outputs": [
    {
     "data": {
      "text/plain": [
       "array([ 1.23, -9.6 , 42.  ])"
      ]
     },
     "execution_count": 16,
     "metadata": {},
     "output_type": "execute_result"
    }
   ],
   "source": [
    "a.astype(np.float64)"
   ]
  },
  {
   "cell_type": "code",
   "execution_count": 17,
   "id": "597737c6",
   "metadata": {},
   "outputs": [
    {
     "data": {
      "text/plain": [
       "dtype('float64')"
      ]
     },
     "execution_count": 17,
     "metadata": {},
     "output_type": "execute_result"
    }
   ],
   "source": [
    "a.astype(np.float64).dtype"
   ]
  },
  {
   "cell_type": "code",
   "execution_count": 19,
   "id": "6b31f027",
   "metadata": {},
   "outputs": [
    {
     "name": "stdout",
     "output_type": "stream",
     "text": [
      "[[1. 2. 3.]\n",
      " [4. 5. 6.]]\n"
     ]
    }
   ],
   "source": [
    "#operations\n",
    "arr=np.array([[1.,2.,3.],[4.,5.,6.]])\n",
    "print(arr)"
   ]
  },
  {
   "cell_type": "code",
   "execution_count": 22,
   "id": "ae41bcda",
   "metadata": {},
   "outputs": [
    {
     "name": "stdout",
     "output_type": "stream",
     "text": [
      "[[ 2.  4.  6.]\n",
      " [ 8. 10. 12.]]\n"
     ]
    }
   ],
   "source": [
    "#add\n",
    "arr1=arr+arr\n",
    "print(arr1)"
   ]
  },
  {
   "cell_type": "code",
   "execution_count": 23,
   "id": "803bd3ae",
   "metadata": {},
   "outputs": [
    {
     "name": "stdout",
     "output_type": "stream",
     "text": [
      "[[0. 0. 0.]\n",
      " [0. 0. 0.]]\n",
      "[[ 1.  4.  9.]\n",
      " [16. 25. 36.]]\n",
      "[[1. 1. 1.]\n",
      " [1. 1. 1.]]\n"
     ]
    }
   ],
   "source": [
    "arr2=arr-arr\n",
    "arr3=arr*arr\n",
    "arr4=arr/arr\n",
    "print(arr2)\n",
    "print(arr3)\n",
    "print(arr4)"
   ]
  },
  {
   "cell_type": "code",
   "execution_count": 24,
   "id": "3632c7bd",
   "metadata": {},
   "outputs": [
    {
     "name": "stdout",
     "output_type": "stream",
     "text": [
      "[[2. 3. 4.]\n",
      " [5. 6. 7.]]\n",
      "[[0. 1. 2.]\n",
      " [3. 4. 5.]]\n",
      "[[ 2.  4.  6.]\n",
      " [ 8. 10. 12.]]\n",
      "[[0.5 1.  1.5]\n",
      " [2.  2.5 3. ]]\n",
      "[[1.         0.5        0.33333333]\n",
      " [0.25       0.2        0.16666667]]\n"
     ]
    }
   ],
   "source": [
    "#scalar add/mul/sub/div\n",
    "print(arr+1)\n",
    "print(arr-1)\n",
    "print(arr*2)\n",
    "print(arr/2)\n",
    "print(1/arr)"
   ]
  },
  {
   "cell_type": "code",
   "execution_count": 27,
   "id": "3cf30ba6",
   "metadata": {},
   "outputs": [
    {
     "ename": "AttributeError",
     "evalue": "'builtin_function_or_method' object has no attribute 'arange'",
     "output_type": "error",
     "traceback": [
      "\u001b[0;31m---------------------------------------------------------------------------\u001b[0m",
      "\u001b[0;31mAttributeError\u001b[0m                            Traceback (most recent call last)",
      "\u001b[0;32m/var/folders/jf/3s6bwdb52h33s3spv7p1tkx40000gq/T/ipykernel_829/3372567111.py\u001b[0m in \u001b[0;36m<module>\u001b[0;34m\u001b[0m\n\u001b[1;32m      1\u001b[0m \u001b[0;31m#indexing and slicing\u001b[0m\u001b[0;34m\u001b[0m\u001b[0;34m\u001b[0m\u001b[0m\n\u001b[0;32m----> 2\u001b[0;31m \u001b[0marr\u001b[0m\u001b[0;34m=\u001b[0m\u001b[0mnp\u001b[0m\u001b[0;34m.\u001b[0m\u001b[0marray\u001b[0m\u001b[0;34m.\u001b[0m\u001b[0marange\u001b[0m\u001b[0;34m(\u001b[0m\u001b[0;36m10\u001b[0m\u001b[0;34m)\u001b[0m\u001b[0;34m\u001b[0m\u001b[0;34m\u001b[0m\u001b[0m\n\u001b[0m\u001b[1;32m      3\u001b[0m \u001b[0mprint\u001b[0m\u001b[0;34m(\u001b[0m\u001b[0marr\u001b[0m\u001b[0;34m)\u001b[0m\u001b[0;34m\u001b[0m\u001b[0;34m\u001b[0m\u001b[0m\n",
      "\u001b[0;31mAttributeError\u001b[0m: 'builtin_function_or_method' object has no attribute 'arange'"
     ]
    }
   ],
   "source": [
    "#indexing and slicing\n",
    "arr=np.array.arange(10)\n",
    "print(arr)"
   ]
  },
  {
   "cell_type": "code",
   "execution_count": 29,
   "id": "d653f1e6",
   "metadata": {},
   "outputs": [
    {
     "name": "stdout",
     "output_type": "stream",
     "text": [
      "[0 1 2 3 4 5 6 7 8 9]\n"
     ]
    }
   ],
   "source": [
    "arr=np.arange(10)\n",
    "print(arr)"
   ]
  },
  {
   "cell_type": "code",
   "execution_count": 30,
   "id": "5c8df30d",
   "metadata": {},
   "outputs": [
    {
     "name": "stdout",
     "output_type": "stream",
     "text": [
      "5\n"
     ]
    }
   ],
   "source": [
    "print(arr[5])"
   ]
  },
  {
   "cell_type": "code",
   "execution_count": 31,
   "id": "e347ca25",
   "metadata": {},
   "outputs": [
    {
     "name": "stdout",
     "output_type": "stream",
     "text": [
      "[5 6 7]\n"
     ]
    }
   ],
   "source": [
    "print(arr[5:8])"
   ]
  },
  {
   "cell_type": "code",
   "execution_count": 32,
   "id": "19fbc550",
   "metadata": {},
   "outputs": [
    {
     "name": "stdout",
     "output_type": "stream",
     "text": [
      "[ 0  1  2  3  4 12 12 12  8  9]\n"
     ]
    }
   ],
   "source": [
    "arr[5:8]=12\n",
    "print(arr)"
   ]
  },
  {
   "cell_type": "code",
   "execution_count": 39,
   "id": "ea55ac73",
   "metadata": {},
   "outputs": [
    {
     "name": "stdout",
     "output_type": "stream",
     "text": [
      "[[8 8 1 6]\n",
      " [7 7 8 1]\n",
      " [5 9 8 9]]\n"
     ]
    }
   ],
   "source": [
    "\n",
    "a=np.random.randint(10,size=(3,4))\n",
    "print(a)"
   ]
  },
  {
   "cell_type": "code",
   "execution_count": 40,
   "id": "b5aeede4",
   "metadata": {},
   "outputs": [
    {
     "name": "stdout",
     "output_type": "stream",
     "text": [
      "slice: 8\n"
     ]
    }
   ],
   "source": [
    "#slicing\n",
    "print(\"slice:\",a[(0,0)])"
   ]
  },
  {
   "cell_type": "code",
   "execution_count": 41,
   "id": "b04ceba1",
   "metadata": {},
   "outputs": [
    {
     "name": "stdout",
     "output_type": "stream",
     "text": [
      "6\n"
     ]
    }
   ],
   "source": [
    "print(a[(0,-1)])"
   ]
  },
  {
   "cell_type": "code",
   "execution_count": 42,
   "id": "78d5b103",
   "metadata": {},
   "outputs": [
    {
     "name": "stdout",
     "output_type": "stream",
     "text": [
      "1\n"
     ]
    }
   ],
   "source": [
    "print(a[(0,-2)])"
   ]
  },
  {
   "cell_type": "code",
   "execution_count": 45,
   "id": "d080135c",
   "metadata": {},
   "outputs": [
    {
     "name": "stdout",
     "output_type": "stream",
     "text": [
      "[    0     1     2     3     4     5 12345     7     8     9]\n"
     ]
    },
    {
     "data": {
      "text/plain": [
       "numpy.ndarray"
      ]
     },
     "execution_count": 45,
     "metadata": {},
     "output_type": "execute_result"
    }
   ],
   "source": [
    "arr1=np.arange(10)\n",
    "arr_slice=arr1[5:8]\n",
    "arr_slice[1]=12345\n",
    "print(arr1)\n",
    "type(np.arange(10))"
   ]
  },
  {
   "cell_type": "code",
   "execution_count": 46,
   "id": "fbd2e9e7",
   "metadata": {},
   "outputs": [
    {
     "name": "stdout",
     "output_type": "stream",
     "text": [
      "[[-1.27814912  1.43737068 -0.07770457  1.08963016]\n",
      " [ 0.09654267  1.41866711  1.16827314  0.94718595]\n",
      " [ 1.08548703  2.38222445 -0.40602374  0.26644534]\n",
      " [-1.35571372 -0.11410253 -0.84423086  0.70564081]]\n"
     ]
    }
   ],
   "source": [
    "#random number generation\n",
    "samples=np.random.normal(size=(4,4))\n",
    "print(samples)"
   ]
  },
  {
   "cell_type": "code",
   "execution_count": 48,
   "id": "b48545a5",
   "metadata": {},
   "outputs": [
    {
     "data": {
      "text/plain": [
       "array([[8, 8, 1, 6],\n",
       "       [7, 7, 8, 1],\n",
       "       [5, 9, 8, 9]])"
      ]
     },
     "execution_count": 48,
     "metadata": {},
     "output_type": "execute_result"
    }
   ],
   "source": [
    "#transposing\n",
    "a"
   ]
  },
  {
   "cell_type": "code",
   "execution_count": 49,
   "id": "4c497695",
   "metadata": {},
   "outputs": [
    {
     "data": {
      "text/plain": [
       "array([[8, 7, 5],\n",
       "       [8, 7, 9],\n",
       "       [1, 8, 8],\n",
       "       [6, 1, 9]])"
      ]
     },
     "execution_count": 49,
     "metadata": {},
     "output_type": "execute_result"
    }
   ],
   "source": [
    "a.T"
   ]
  },
  {
   "cell_type": "code",
   "execution_count": 50,
   "id": "af282017",
   "metadata": {},
   "outputs": [
    {
     "data": {
      "text/plain": [
       "array([[2.82842712, 2.82842712, 1.        , 2.44948974],\n",
       "       [2.64575131, 2.64575131, 2.82842712, 1.        ],\n",
       "       [2.23606798, 3.        , 2.82842712, 3.        ]])"
      ]
     },
     "execution_count": 50,
     "metadata": {},
     "output_type": "execute_result"
    }
   ],
   "source": [
    "np.sqrt(a)"
   ]
  },
  {
   "cell_type": "code",
   "execution_count": 51,
   "id": "b9ed2470",
   "metadata": {},
   "outputs": [
    {
     "data": {
      "text/plain": [
       "array([[2.98095799e+03, 2.98095799e+03, 2.71828183e+00, 4.03428793e+02],\n",
       "       [1.09663316e+03, 1.09663316e+03, 2.98095799e+03, 2.71828183e+00],\n",
       "       [1.48413159e+02, 8.10308393e+03, 2.98095799e+03, 8.10308393e+03]])"
      ]
     },
     "execution_count": 51,
     "metadata": {},
     "output_type": "execute_result"
    }
   ],
   "source": [
    "np.exp(a)"
   ]
  },
  {
   "cell_type": "code",
   "execution_count": 55,
   "id": "2a347cdf",
   "metadata": {},
   "outputs": [
    {
     "data": {
      "text/plain": [
       "array([[8., 8., 1., 6.],\n",
       "       [7., 7., 8., 1.],\n",
       "       [5., 9., 8., 9.]])"
      ]
     },
     "execution_count": 55,
     "metadata": {},
     "output_type": "execute_result"
    }
   ],
   "source": [
    "np.maximum(a,np.sqrt(a))"
   ]
  },
  {
   "cell_type": "code",
   "execution_count": 57,
   "id": "3c0a480d",
   "metadata": {},
   "outputs": [
    {
     "name": "stdout",
     "output_type": "stream",
     "text": [
      "[[-0.74385608 -2.5174371  -1.50709602  1.14907613]\n",
      " [-1.19357825  1.14104245  1.50944508  1.06777513]\n",
      " [-0.68658948  0.01487332 -0.3756659  -0.03822364]\n",
      " [ 0.36797447 -0.0447237  -0.30237513 -2.2244036 ]\n",
      " [ 0.72400636  0.35900276  1.07612104  0.19214083]]\n",
      "-0.1016245669174036\n",
      "-0.1016245669174036\n",
      "-2.032491338348072\n",
      "-2.032491338348072\n"
     ]
    }
   ],
   "source": [
    "#mathematical and statistical methods\n",
    "arr=np.random.randn(5,4)\n",
    "print(arr)\n",
    "print(arr.mean())\n",
    "print(np.mean(arr))\n",
    "print(arr.sum())\n",
    "print(np.sum(arr))"
   ]
  },
  {
   "cell_type": "code",
   "execution_count": 58,
   "id": "9c3e9881",
   "metadata": {},
   "outputs": [
    {
     "data": {
      "text/plain": [
       "array([-0.90482827,  0.6311711 , -0.27140142, -0.55088199,  0.58781775])"
      ]
     },
     "execution_count": 58,
     "metadata": {},
     "output_type": "execute_result"
    }
   ],
   "source": [
    "arr.mean(axis=1)"
   ]
  },
  {
   "cell_type": "code",
   "execution_count": 61,
   "id": "11b035e8",
   "metadata": {},
   "outputs": [
    {
     "name": "stdout",
     "output_type": "stream",
     "text": [
      "[[0 1 2]\n",
      " [3 4 5]\n",
      " [6 7 8]]\n",
      "cumulative sum row wise:\n",
      " [[ 0  1  2]\n",
      " [ 3  5  7]\n",
      " [ 9 12 15]]\n",
      "cumulative sum column wise:\n",
      " [[ 0  1  3]\n",
      " [ 3  7 12]\n",
      " [ 6 13 21]]\n",
      "cumulative prod row wise:\n",
      " [[ 0  1  2]\n",
      " [ 0  4 10]\n",
      " [ 0 28 80]]\n",
      "[[  0   0   0]\n",
      " [  3  12  60]\n",
      " [  6  42 336]]\n"
     ]
    }
   ],
   "source": [
    "arr=np.array([[0,1,2],[3,4,5],[6,7,8]])\n",
    "print(arr)\n",
    "print('cumulative sum row wise:\\n',arr.cumsum(0))\n",
    "print('cumulative sum column wise:\\n',arr.cumsum(1))\n",
    "print('cumulative prod row wise:\\n',arr.cumprod(0))\n",
    "print(arr.cumprod(1))"
   ]
  },
  {
   "cell_type": "code",
   "execution_count": 62,
   "id": "d5389192",
   "metadata": {},
   "outputs": [
    {
     "name": "stdout",
     "output_type": "stream",
     "text": [
      "[[ 0.85292596  0.01835718  0.42830357  0.99627783]\n",
      " [-0.49114966  0.71267817  1.11334035 -2.15367459]\n",
      " [-0.41611148 -1.07089699  0.22113881 -1.12305712]\n",
      " [-1.05075796  1.01207905  1.54371643 -0.40211489]\n",
      " [ 0.8647491  -0.22686923  0.81116027  0.28779461]]\n",
      "[[-1.05075796 -1.07089699  0.22113881 -2.15367459]\n",
      " [-0.49114966 -0.22686923  0.42830357 -1.12305712]\n",
      " [-0.41611148  0.01835718  0.81116027 -0.40211489]\n",
      " [ 0.85292596  0.71267817  1.11334035  0.28779461]\n",
      " [ 0.8647491   1.01207905  1.54371643  0.99627783]]\n",
      "[[-2.15367459 -1.07089699 -1.05075796  0.22113881]\n",
      " [-1.12305712 -0.49114966 -0.22686923  0.42830357]\n",
      " [-0.41611148 -0.40211489  0.01835718  0.81116027]\n",
      " [ 0.28779461  0.71267817  0.85292596  1.11334035]\n",
      " [ 0.8647491   0.99627783  1.01207905  1.54371643]]\n"
     ]
    }
   ],
   "source": [
    "arr=np.random.randn(5,4)\n",
    "print(arr)\n",
    "arr.sort(0)#ROWWISE\n",
    "print(arr)\n",
    "arr.sort(1)#COLUMNWISE\n",
    "print(arr)"
   ]
  },
  {
   "cell_type": "code",
   "execution_count": 63,
   "id": "ded0b279",
   "metadata": {},
   "outputs": [
    {
     "data": {
      "text/plain": [
       "array(['bob', 'joe', 'will'], dtype='<U4')"
      ]
     },
     "execution_count": 63,
     "metadata": {},
     "output_type": "execute_result"
    }
   ],
   "source": [
    "names=np.array(['bob','joe','will','will','joe','joe'])\n",
    "np.unique(names)\n"
   ]
  },
  {
   "cell_type": "code",
   "execution_count": 3,
   "id": "f8fab11f",
   "metadata": {},
   "outputs": [],
   "source": [
    "#RANDOM NUMBER GENERATION\n",
    "#random.(rand/randint/randn/binpmial/normal/chi-square/uniform)"
   ]
  },
  {
   "cell_type": "code",
   "execution_count": null,
   "id": "0cf4905d",
   "metadata": {},
   "outputs": [],
   "source": [
    "#Universal Function(UFUNCS:)"
   ]
  },
  {
   "cell_type": "code",
   "execution_count": 32,
   "id": "38c851e0",
   "metadata": {},
   "outputs": [
    {
     "name": "stdout",
     "output_type": "stream",
     "text": [
      "[6 1 4 4 8]\n",
      "[0.16666667 1.         0.25       0.25       0.125     ]\n",
      "25.4 µs ± 1.46 µs per loop (mean ± std. dev. of 7 runs, 10000 loops each)\n"
     ]
    }
   ],
   "source": [
    "import numpy as np\n",
    "np.random.seed(0)\n",
    "def compute_reciprocals(values):\n",
    "    output=np.empty(len(values))\n",
    "    for i in range(len(values)):\n",
    "        output[i]=1.0/values[i]#reciprocals\n",
    "    return output\n",
    "values=np.random.randint(1,10,size=5)\n",
    "print(values)\n",
    "print(compute_reciprocals(values))\n",
    "%timeit compute_reciprocals(values)#measure 0f execution time"
   ]
  },
  {
   "cell_type": "code",
   "execution_count": 35,
   "id": "4029fe79",
   "metadata": {},
   "outputs": [
    {
     "data": {
      "text/plain": [
       "array([0.        , 0.5       , 0.66666667, 0.75      , 0.8       ])"
      ]
     },
     "execution_count": 35,
     "metadata": {},
     "output_type": "execute_result"
    }
   ],
   "source": [
    "np.arange(5)/np.arange(1,6)"
   ]
  },
  {
   "cell_type": "code",
   "execution_count": 38,
   "id": "ce17acdf",
   "metadata": {},
   "outputs": [
    {
     "data": {
      "text/plain": [
       "array([[0, 1, 2],\n",
       "       [3, 4, 5],\n",
       "       [6, 7, 8]])"
      ]
     },
     "execution_count": 38,
     "metadata": {},
     "output_type": "execute_result"
    }
   ],
   "source": [
    "x=np.arange(9).reshape(3,3)\n",
    "x"
   ]
  },
  {
   "cell_type": "code",
   "execution_count": 39,
   "id": "3ee5ca52",
   "metadata": {},
   "outputs": [
    {
     "data": {
      "text/plain": [
       "array([[  1,   2,   4],\n",
       "       [  8,  16,  32],\n",
       "       [ 64, 128, 256]])"
      ]
     },
     "execution_count": 39,
     "metadata": {},
     "output_type": "execute_result"
    }
   ],
   "source": [
    "2**x"
   ]
  },
  {
   "cell_type": "code",
   "execution_count": null,
   "id": "fb42ee5b",
   "metadata": {},
   "outputs": [],
   "source": [
    "#exploring numpys UFUNCS"
   ]
  },
  {
   "cell_type": "code",
   "execution_count": 40,
   "id": "d8441898",
   "metadata": {},
   "outputs": [
    {
     "name": "stdout",
     "output_type": "stream",
     "text": [
      "x   = [0 1 2 3]\n",
      "x+2 = [2 3 4 5]\n",
      "x-2 = [-2 -1  0  1]\n",
      "x*2 = [0 2 4 6]\n",
      "x/2 = [0.  0.5 1.  1.5]\n",
      "x//2= [0 0 1 1]\n"
     ]
    }
   ],
   "source": [
    "#array arithmetic\n",
    "import numpy as np\n",
    "x=np.arange(4)\n",
    "print('x   =',x)\n",
    "print('x+2 =',x+2)\n",
    "print('x-2 =',x-2)\n",
    "print('x*2 =',x*2)\n",
    "print('x/2 =',x/2)\n",
    "print('x//2=',x//2)"
   ]
  },
  {
   "cell_type": "code",
   "execution_count": 43,
   "id": "f8e7adc6",
   "metadata": {},
   "outputs": [
    {
     "name": "stdout",
     "output_type": "stream",
     "text": [
      "[0 1 2 3]\n",
      "8\n",
      "[2 3 4 5]\n",
      "14\n"
     ]
    }
   ],
   "source": [
    "print(x)\n",
    "print(sum(x,2))\n",
    "print(np.add(x,2))\n",
    "print(sum(np.add(x,2)))"
   ]
  },
  {
   "cell_type": "code",
   "execution_count": 44,
   "id": "d5489d4b",
   "metadata": {},
   "outputs": [
    {
     "data": {
      "text/plain": [
       "array([2, 3, 4, 5])"
      ]
     },
     "execution_count": 44,
     "metadata": {},
     "output_type": "execute_result"
    }
   ],
   "source": [
    "x+2"
   ]
  },
  {
   "cell_type": "code",
   "execution_count": 47,
   "id": "d7621405",
   "metadata": {},
   "outputs": [
    {
     "name": "stdout",
     "output_type": "stream",
     "text": [
      "[2 1 0 1 2]\n",
      "[2 1 0 1 2]\n",
      "[2 1 0 1 2]\n"
     ]
    }
   ],
   "source": [
    "x=np.array([-2,-1,0,1,2])\n",
    "print(abs(x))\n",
    "print(np.absolute(x))\n",
    "print(np.abs(x))\n"
   ]
  },
  {
   "cell_type": "code",
   "execution_count": 49,
   "id": "4d02f75c",
   "metadata": {},
   "outputs": [
    {
     "name": "stdout",
     "output_type": "stream",
     "text": [
      "[0.         1.57079633 3.14159265]\n",
      "[0.0000000e+00 1.0000000e+00 1.2246468e-16]\n",
      "[ 1.000000e+00  6.123234e-17 -1.000000e+00]\n",
      "[ 0.00000000e+00  1.63312394e+16 -1.22464680e-16]\n"
     ]
    }
   ],
   "source": [
    "#trignometry function\n",
    "theta=np.linspace(0,np.pi,3)\n",
    "print(theta)\n",
    "print(np.sin(theta))\n",
    "print(np.cos(theta))\n",
    "print(np.tan(theta))"
   ]
  },
  {
   "cell_type": "code",
   "execution_count": 54,
   "id": "10ba8dc4",
   "metadata": {},
   "outputs": [
    {
     "name": "stdout",
     "output_type": "stream",
     "text": [
      "[1, 2, 3]\n",
      "e^x = [ 2.71828183  7.3890561  20.08553692]\n",
      "2^x = [2. 4. 8.]\n",
      "3^x = [ 3  9 27]\n"
     ]
    }
   ],
   "source": [
    "#exponents and logarithms\n",
    "x=[1,2,3] \n",
    "print(x) \n",
    "print('e^x =',np.exp(x)) \n",
    "print('2^x =',np.exp2(x)) \n",
    "print('3^x =',np.power(3,x))\n",
    "\n",
    "\n"
   ]
  },
  {
   "cell_type": "code",
   "execution_count": 55,
   "id": "01f6aff9",
   "metadata": {},
   "outputs": [
    {
     "name": "stdout",
     "output_type": "stream",
     "text": [
      "x= [1, 2, 3, 4]\n",
      "In(x)   = [0.         0.69314718 1.09861229 1.38629436]\n",
      "log2(x) = [0.        1.        1.5849625 2.       ]\n",
      "log10(x)= [0.         0.30103    0.47712125 0.60205999]\n"
     ]
    }
   ],
   "source": [
    "x=[1,2,3,4]\n",
    "print('x=',x)\n",
    "print('In(x)   =',np.log(x))\n",
    "print('log2(x) =',np.log2(x))\n",
    "print('log10(x)=',np.log10(x))\n"
   ]
  },
  {
   "cell_type": "code",
   "execution_count": 59,
   "id": "5028090c",
   "metadata": {},
   "outputs": [
    {
     "data": {
      "text/plain": [
       "array([ 0., 10., 20., 30., 40.])"
      ]
     },
     "execution_count": 59,
     "metadata": {},
     "output_type": "execute_result"
    }
   ],
   "source": [
    "#specifyind output\n",
    "x=np.arange(5)\n",
    "y=np.empty(5)\n",
    "np.multiply(x,10,out=y)\n",
    "#y=np.multyply(x,10)\n",
    "\n",
    "y"
   ]
  },
  {
   "cell_type": "code",
   "execution_count": 2,
   "id": "dcc32884",
   "metadata": {},
   "outputs": [
    {
     "name": "stdout",
     "output_type": "stream",
     "text": [
      "110 ms ± 1.81 ms per loop (mean ± std. dev. of 7 runs, 10 loops each)\n",
      "614 µs ± 67 µs per loop (mean ± std. dev. of 7 runs, 1000 loops each)\n"
     ]
    }
   ],
   "source": [
    "#operations is computed more quickly\n",
    "import numpy as np\n",
    "big_array=np.random.rand(1000000)\n",
    "%timeit sum(big_array)\n",
    "%timeit np.sum(big_array)"
   ]
  },
  {
   "cell_type": "code",
   "execution_count": 4,
   "id": "baaf45b0",
   "metadata": {},
   "outputs": [
    {
     "data": {
      "text/plain": [
       "(3.297173203353765e-07, 0.9999998714016899, 499977.16684667446)"
      ]
     },
     "execution_count": 4,
     "metadata": {},
     "output_type": "execute_result"
    }
   ],
   "source": [
    "np.min(big_array),np.max(big_array),np.sum(big_array)"
   ]
  },
  {
   "cell_type": "code",
   "execution_count": 5,
   "id": "864b4af5",
   "metadata": {},
   "outputs": [
    {
     "data": {
      "text/plain": [
       "array([5, 6, 7])"
      ]
     },
     "execution_count": 5,
     "metadata": {},
     "output_type": "execute_result"
    }
   ],
   "source": [
    "#computation on arrays:broadcasting\n",
    "a=np.array([0,1,2])\n",
    "b=np.array([5,5,5])\n",
    "a+b"
   ]
  },
  {
   "cell_type": "code",
   "execution_count": 6,
   "id": "7d61e37d",
   "metadata": {},
   "outputs": [
    {
     "data": {
      "text/plain": [
       "array([5, 6, 7])"
      ]
     },
     "execution_count": 6,
     "metadata": {},
     "output_type": "execute_result"
    }
   ],
   "source": [
    "a+5"
   ]
  },
  {
   "cell_type": "code",
   "execution_count": 8,
   "id": "a425a635",
   "metadata": {
    "scrolled": true
   },
   "outputs": [
    {
     "name": "stdout",
     "output_type": "stream",
     "text": [
      "broadcasting:\n",
      " [[1. 2. 2.]\n",
      " [1. 2. 2.]\n",
      " [1. 2. 2.]]\n"
     ]
    }
   ],
   "source": [
    "m=np.ones((3,3))\n",
    "a=np.array([0,1,1])\n",
    "print('broadcasting:\\n',m+a)"
   ]
  },
  {
   "cell_type": "code",
   "execution_count": null,
   "id": "3ee36157",
   "metadata": {},
   "outputs": [],
   "source": []
  },
  {
   "cell_type": "code",
   "execution_count": null,
   "id": "4fec85c6",
   "metadata": {},
   "outputs": [],
   "source": []
  },
  {
   "cell_type": "code",
   "execution_count": 41,
   "id": "e5070758",
   "metadata": {},
   "outputs": [
    {
     "name": "stdout",
     "output_type": "stream",
     "text": [
      "1\n",
      "2\n",
      "[0 1 2]\n",
      "[[0]\n",
      " [1]\n",
      " [2]]\n",
      "[[0 1 2]\n",
      " [1 2 3]\n",
      " [2 3 4]]\n"
     ]
    }
   ],
   "source": [
    "a=np.arange(3)\n",
    "b=np.arange(3).reshape(3,1)\n",
    "print(a.ndim)\n",
    "print(b.ndim)\n",
    "\n",
    "print(a)\n",
    "print(b)\n",
    "print(a+b)\n"
   ]
  },
  {
   "cell_type": "code",
   "execution_count": 42,
   "id": "a573a583",
   "metadata": {},
   "outputs": [],
   "source": [
    "#there are 3 rules for broadcasting(book/notes in drive)\n"
   ]
  },
  {
   "cell_type": "code",
   "execution_count": 11,
   "id": "f9fdf7db",
   "metadata": {},
   "outputs": [
    {
     "name": "stdout",
     "output_type": "stream",
     "text": [
      "a shape: (2, 3)\n",
      "b shape: (3,)\n"
     ]
    }
   ],
   "source": [
    "a=np.ones((2,3))\n",
    "b=np.arange(3)\n",
    "print('a shape:',a.shape)\n",
    "print('b shape:',b.shape)"
   ]
  },
  {
   "cell_type": "code",
   "execution_count": 43,
   "id": "7f5f3baf",
   "metadata": {},
   "outputs": [],
   "source": [
    "#rule1--one to the left of array with fewer dim\n",
    "#a.shape->(2,3)\n",
    "#b.shape->(1,3)"
   ]
  },
  {
   "cell_type": "code",
   "execution_count": 13,
   "id": "59107592",
   "metadata": {},
   "outputs": [],
   "source": [
    "#rule2--ones in empty places\n",
    "#a.shape->(2,3)\n",
    "#b.shape->(2,3)"
   ]
  },
  {
   "cell_type": "markdown",
   "id": "5832ed5d",
   "metadata": {},
   "source": [
    "#rule3--disagree in dim error raised ,could not broarcast\n"
   ]
  },
  {
   "cell_type": "code",
   "execution_count": 15,
   "id": "4008016f",
   "metadata": {},
   "outputs": [
    {
     "name": "stdout",
     "output_type": "stream",
     "text": [
      "a:\n",
      " [[1. 1. 1.]\n",
      " [1. 1. 1.]]\n",
      "b:\n",
      " [0 1 2]\n",
      "a+b:\n",
      " [[1. 2. 3.]\n",
      " [1. 2. 3.]]\n"
     ]
    }
   ],
   "source": [
    "print('a:\\n',a)\n",
    "print('b:\\n',b)\n",
    "print('a+b:\\n',a+b)"
   ]
  },
  {
   "cell_type": "raw",
   "id": "00a04e72",
   "metadata": {},
   "source": [
    "#ndarray object internal\n",
    "#ndarray internally consists of:\n",
    " 1.a pointeto dara,that is a block of system memory\n",
    " 2.the data type or dtype \n",
    " 3a tuple indicating the arrays shape\n"
   ]
  },
  {
   "cell_type": "code",
   "execution_count": 16,
   "id": "ea738afa",
   "metadata": {},
   "outputs": [
    {
     "name": "stdout",
     "output_type": "stream",
     "text": [
      "[[-0.29406028  0.80410893 -0.95110331  1.62596066  0.25102997]\n",
      " [ 0.96206241 -0.39421325 -0.08358055  1.98276725 -0.01759899]\n",
      " [-1.32634628 -0.3480381  -0.56499449 -0.92770993 -1.9337034 ]\n",
      " [ 0.61507394 -0.27954263 -1.10468656 -1.19438254 -0.12155939]\n",
      " [-0.37505264 -0.16566485  0.29148887  1.12258327  0.51097123]]\n",
      "[[-0.08358055  1.98276725]\n",
      " [-0.56499449 -0.92770993]\n",
      " [-1.10468656 -1.19438254]]\n"
     ]
    }
   ],
   "source": [
    "arr=np.random.randn(5,5)\n",
    "print(arr)\n",
    "print(arr[-4:-1,-3:-1])"
   ]
  },
  {
   "cell_type": "markdown",
   "id": "9d7d082e",
   "metadata": {},
   "source": [
    "# advance array manipulation"
   ]
  },
  {
   "cell_type": "code",
   "execution_count": null,
   "id": "0a952120",
   "metadata": {},
   "outputs": [],
   "source": [
    "# 1.reshaping"
   ]
  },
  {
   "cell_type": "code",
   "execution_count": 19,
   "id": "02fb201d",
   "metadata": {},
   "outputs": [],
   "source": [
    "a=np.arange(3)\n",
    "b=np.arange(3).reshape(3,1)"
   ]
  },
  {
   "cell_type": "code",
   "execution_count": 20,
   "id": "37a17903",
   "metadata": {},
   "outputs": [
    {
     "name": "stdout",
     "output_type": "stream",
     "text": [
      "[0 1 2]\n",
      "[[0]\n",
      " [1]\n",
      " [2]]\n"
     ]
    }
   ],
   "source": [
    "print(a)\n",
    "print(b)"
   ]
  },
  {
   "cell_type": "code",
   "execution_count": 21,
   "id": "18e16ccc",
   "metadata": {},
   "outputs": [],
   "source": [
    "#multidim shape(3,4)=reshape(4,3)"
   ]
  },
  {
   "cell_type": "code",
   "execution_count": 22,
   "id": "c8c631a7",
   "metadata": {},
   "outputs": [
    {
     "name": "stdout",
     "output_type": "stream",
     "text": [
      "1D array:\n",
      " [ 0  1  2  3  4  5  6  7  8  9 10 11 12 13 14]\n",
      "5 rows:\n",
      " [[ 0  1  2]\n",
      " [ 3  4  5]\n",
      " [ 6  7  8]\n",
      " [ 9 10 11]\n",
      " [12 13 14]]\n",
      "3 rows:\n",
      " [[ 0  1  2]\n",
      " [ 3  4  5]\n",
      " [ 6  7  8]\n",
      " [ 9 10 11]\n",
      " [12 13 14]]\n"
     ]
    }
   ],
   "source": [
    "arr=np.arange(15)\n",
    "print('1D array:\\n',arr)\n",
    "print('5 rows:\\n',arr.reshape((5,-1)))\n",
    "print('3 rows:\\n',arr.reshape((-1,3)))"
   ]
  },
  {
   "cell_type": "code",
   "execution_count": 24,
   "id": "84d0a421",
   "metadata": {},
   "outputs": [
    {
     "name": "stdout",
     "output_type": "stream",
     "text": [
      "2D array:\n",
      " [[ 0  1  2]\n",
      " [ 3  4  5]\n",
      " [ 6  7  8]\n",
      " [ 9 10 11]\n",
      " [12 13 14]]\n",
      "ravelling array:\n",
      " [ 0  1  2  3  4  5  6  7  8  9 10 11 12 13 14]\n",
      "flatten array:\n",
      " [ 0  1  2  3  4  5  6  7  8  9 10 11 12 13 14]\n"
     ]
    }
   ],
   "source": [
    "#ravel()\n",
    "#flatten()\n",
    "arr=np.arange(15).reshape((5,3))\n",
    "print('2D array:\\n',arr)\n",
    "print('ravelling array:\\n',arr.ravel())\n",
    "print('flatten array:\\n',arr.flatten())"
   ]
  },
  {
   "cell_type": "code",
   "execution_count": 25,
   "id": "aa880c32",
   "metadata": {},
   "outputs": [],
   "source": [
    "#2.concatination -joins arrays in order"
   ]
  },
  {
   "cell_type": "code",
   "execution_count": 29,
   "id": "85ebfb7c",
   "metadata": {},
   "outputs": [
    {
     "name": "stdout",
     "output_type": "stream",
     "text": [
      "[[1 2 3]\n",
      " [4 5 6]]\n",
      "[[ 7  8  9]\n",
      " [10 11 12]]\n",
      "[[ 1  2  3]\n",
      " [ 4  5  6]\n",
      " [ 7  8  9]\n",
      " [10 11 12]]\n",
      "[[ 1  2  3  7  8  9]\n",
      " [ 4  5  6 10 11 12]]\n"
     ]
    }
   ],
   "source": [
    "#axis=0 rowwise\n",
    "#axis=1 coloumwise\n",
    "arr1=np.array([[1,2,3],[4,5,6]])\n",
    "arr2=np.array([[7,8,9],[10,11,12]])\n",
    "print(arr1)\n",
    "print(arr2)\n",
    "print(np.concatenate([arr1,arr2],axis=0))#(or)np.vstack((arr1,arr2))      vertical stack\n",
    "print(np.concatenate([arr1,arr2],axis=1))#(or)np.hstack((arr1,arr2))      horizontal stack"
   ]
  },
  {
   "cell_type": "code",
   "execution_count": 30,
   "id": "d59a670a",
   "metadata": {},
   "outputs": [],
   "source": [
    "#3.repeating elements:repeat()"
   ]
  },
  {
   "cell_type": "code",
   "execution_count": 31,
   "id": "09157ee9",
   "metadata": {},
   "outputs": [
    {
     "name": "stdout",
     "output_type": "stream",
     "text": [
      "[0 0 0 1 1 1 2 2 2]\n"
     ]
    }
   ],
   "source": [
    "arr=np.arange(3)\n",
    "print(arr.repeat(3))"
   ]
  },
  {
   "cell_type": "code",
   "execution_count": 45,
   "id": "c05b8381",
   "metadata": {},
   "outputs": [
    {
     "name": "stdout",
     "output_type": "stream",
     "text": [
      "[0 0 1 1 1 2 2 2 2]\n"
     ]
    }
   ],
   "source": [
    "print(arr.repeat([2,3,4]))"
   ]
  },
  {
   "cell_type": "code",
   "execution_count": 46,
   "id": "d36304be",
   "metadata": {},
   "outputs": [
    {
     "name": "stdout",
     "output_type": "stream",
     "text": [
      "[0 0 1 1 1 2 2 2 2]\n"
     ]
    }
   ],
   "source": [
    "a=arr.repeat([2,3,4])\n",
    "print(a)"
   ]
  },
  {
   "cell_type": "code",
   "execution_count": null,
   "id": "a3cc07a6",
   "metadata": {},
   "outputs": [],
   "source": []
  },
  {
   "cell_type": "code",
   "execution_count": 47,
   "id": "6f425cdf",
   "metadata": {},
   "outputs": [
    {
     "data": {
      "text/plain": [
       "[1, 1, 2]"
      ]
     },
     "execution_count": 47,
     "metadata": {},
     "output_type": "execute_result"
    }
   ],
   "source": [
    "[a[3],a[4],a[6]]#fancy indexing"
   ]
  },
  {
   "cell_type": "code",
   "execution_count": 48,
   "id": "63257646",
   "metadata": {},
   "outputs": [
    {
     "data": {
      "text/plain": [
       "array([1, 1, 2])"
      ]
     },
     "execution_count": 48,
     "metadata": {},
     "output_type": "execute_result"
    }
   ],
   "source": [
    "ind=[3,4,6]\n",
    "a[ind]"
   ]
  },
  {
   "cell_type": "code",
   "execution_count": null,
   "id": "9125a6e0",
   "metadata": {},
   "outputs": [],
   "source": []
  },
  {
   "cell_type": "code",
   "execution_count": null,
   "id": "c8a7fa84",
   "metadata": {},
   "outputs": [],
   "source": [
    "#fast sorting:np.sort   np.argsort"
   ]
  },
  {
   "cell_type": "code",
   "execution_count": 49,
   "id": "06d41e2b",
   "metadata": {},
   "outputs": [
    {
     "name": "stdout",
     "output_type": "stream",
     "text": [
      "[2 1 4 9 5]\n"
     ]
    },
    {
     "data": {
      "text/plain": [
       "array([1, 2, 4, 5, 9])"
      ]
     },
     "execution_count": 49,
     "metadata": {},
     "output_type": "execute_result"
    }
   ],
   "source": [
    "x=np.array([2,1,4,9,5])\n",
    "print(x)\n",
    "np.sort(x)"
   ]
  },
  {
   "cell_type": "code",
   "execution_count": 50,
   "id": "3b38356b",
   "metadata": {},
   "outputs": [],
   "source": [
    "#np.argsort returns indices of sorted elements"
   ]
  },
  {
   "cell_type": "code",
   "execution_count": 51,
   "id": "4ea4db14",
   "metadata": {},
   "outputs": [
    {
     "name": "stdout",
     "output_type": "stream",
     "text": [
      "[1 0 2 4 3]\n"
     ]
    }
   ],
   "source": [
    "i=np.argsort(x)\n",
    "print(i)"
   ]
  },
  {
   "cell_type": "code",
   "execution_count": 57,
   "id": "b48227bf",
   "metadata": {},
   "outputs": [],
   "source": [
    "#np.sort(y,axis=1)    rowwise for 2D\n",
    "#np.sort(y,axis=0)    coloumwise for 2D"
   ]
  },
  {
   "cell_type": "code",
   "execution_count": null,
   "id": "9dd9d8ac",
   "metadata": {},
   "outputs": [],
   "source": []
  },
  {
   "cell_type": "code",
   "execution_count": 58,
   "id": "1cbe41e3",
   "metadata": {},
   "outputs": [],
   "source": [
    "#numpys structured arrays(heterogenous data)\n"
   ]
  },
  {
   "cell_type": "code",
   "execution_count": 59,
   "id": "413c38ff",
   "metadata": {},
   "outputs": [],
   "source": [
    "import numpy as np\n",
    "\n",
    "name=['alice','bob','cathy','doug']\n",
    "age=[25,45,37,19]\n",
    "weight=[55.0,88.4,43.2,35.5]"
   ]
  },
  {
   "cell_type": "code",
   "execution_count": 61,
   "id": "5ff39ece",
   "metadata": {},
   "outputs": [
    {
     "name": "stdout",
     "output_type": "stream",
     "text": [
      "[('name', '<U10'), ('age', '<i4'), ('weight', '<f8')]\n"
     ]
    }
   ],
   "source": [
    "#creating simple array\n",
    "x=np.zeros(4,dtype=int)\n",
    "#creating compound array\n",
    "data=np.zeros(4,dtype={'names':('name','age','weight'),\n",
    "                      'formats':('U10','i4','f8')})\n",
    "#'U10'- translates to 'unicode string of maxlen 10','i4'- translates to '4byte'(i.e.,32bit)integer,\n",
    "#'f8'- translates to '8byte'(i.e.,64bit)float\n",
    "print(data.dtype)"
   ]
  },
  {
   "cell_type": "code",
   "execution_count": 63,
   "id": "8908992f",
   "metadata": {},
   "outputs": [
    {
     "name": "stdout",
     "output_type": "stream",
     "text": [
      "[('alice', 25, 55. ) ('bob', 45, 88.4) ('cathy', 37, 43.2)\n",
      " ('doug', 19, 35.5)]\n",
      "<class 'numpy.ndarray'>\n"
     ]
    }
   ],
   "source": [
    "data['name']=name\n",
    "data['age']=age\n",
    "data['weight']=weight\n",
    "print(data)\n",
    "print(type(data))"
   ]
  },
  {
   "cell_type": "code",
   "execution_count": 64,
   "id": "660046fa",
   "metadata": {},
   "outputs": [
    {
     "data": {
      "text/plain": [
       "('alice', 25, 55.)"
      ]
     },
     "execution_count": 64,
     "metadata": {},
     "output_type": "execute_result"
    }
   ],
   "source": [
    "#get first row of data\n",
    "data[0]"
   ]
  },
  {
   "cell_type": "code",
   "execution_count": 65,
   "id": "404f0f1f",
   "metadata": {},
   "outputs": [
    {
     "data": {
      "text/plain": [
       "'doug'"
      ]
     },
     "execution_count": 65,
     "metadata": {},
     "output_type": "execute_result"
    }
   ],
   "source": [
    "#get the name from the last row of data\n",
    "data[-1]['name']"
   ]
  },
  {
   "cell_type": "code",
   "execution_count": 66,
   "id": "0d0f3b72",
   "metadata": {},
   "outputs": [
    {
     "data": {
      "text/plain": [
       "array([('alice', 25, 55. ), ('doug', 19, 35.5)],\n",
       "      dtype=[('name', '<U10'), ('age', '<i4'), ('weight', '<f8')])"
      ]
     },
     "execution_count": 66,
     "metadata": {},
     "output_type": "execute_result"
    }
   ],
   "source": [
    "#names of age under 30\n",
    "data[data['age']<30]"
   ]
  },
  {
   "cell_type": "code",
   "execution_count": 68,
   "id": "569fd35b",
   "metadata": {},
   "outputs": [
    {
     "data": {
      "text/plain": [
       "array(['alice', 'doug'], dtype='<U10')"
      ]
     },
     "execution_count": 68,
     "metadata": {},
     "output_type": "execute_result"
    }
   ],
   "source": [
    "data[data['age']<30]['name']"
   ]
  },
  {
   "cell_type": "code",
   "execution_count": null,
   "id": "aca6c4c0",
   "metadata": {},
   "outputs": [],
   "source": []
  },
  {
   "cell_type": "markdown",
   "id": "fe70f6dc",
   "metadata": {},
   "source": [
    "pandas provide a dataframe object,which is a structure built on mumpyarrays that offers a variety of dada manipulation  functionality"
   ]
  }
 ],
 "metadata": {
  "kernelspec": {
   "display_name": "Python 3 (ipykernel)",
   "language": "python",
   "name": "python3"
  },
  "language_info": {
   "codemirror_mode": {
    "name": "ipython",
    "version": 3
   },
   "file_extension": ".py",
   "mimetype": "text/x-python",
   "name": "python",
   "nbconvert_exporter": "python",
   "pygments_lexer": "ipython3",
   "version": "3.9.13"
  }
 },
 "nbformat": 4,
 "nbformat_minor": 5
}
